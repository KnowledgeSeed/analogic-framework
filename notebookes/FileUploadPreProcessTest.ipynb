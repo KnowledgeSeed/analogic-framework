{
 "cells": [
  {
   "cell_type": "code",
   "execution_count": 47,
   "metadata": {
    "collapsed": true
   },
   "outputs": [],
   "source": [
    "from TM1py import TM1Service\n",
    "import pandas as pd\n",
    "pd.set_option('display.float_format', lambda x: '%.3f' % x)\n",
    "from TM1py.Utils.Utils import build_pandas_dataframe_from_cellset"
   ]
  },
  {
   "cell_type": "code",
   "execution_count": 85,
   "outputs": [],
   "source": [
    "address=\"https://hq.coresystems.hu:5125/analogicadminapi\"\n",
    "namespace = \"knowledgeseed\"\n",
    "user= \"tm1py\"\n",
    "gateway = None\n",
    "password= \"2bffS8hcbJqa7xdA\"\n",
    "ssl=False\n",
    "\n",
    "tm1_service = TM1Service(\n",
    "            base_url=address,\n",
    "            user=user,\n",
    "            password=password,\n",
    "            namespace=namespace,\n",
    "            gateway=gateway,\n",
    "            verify=False,\n",
    "            ssl=ssl)"
   ],
   "metadata": {
    "collapsed": false,
    "pycharm": {
     "name": "#%%\n"
    }
   }
  },
  {
   "cell_type": "code",
   "source": [
    "vx = \"SELECT \"\\\n",
    "    \"{[zSYS Analogic UI FileUpload Preprocessing Setting Measure].[ExtensionCheck], \" \\\n",
    "    \"[zSYS Analogic UI FileUpload Preprocessing Setting Measure].[ForcedTargetName],\" \\\n",
    "    \"[zSYS Analogic UI FileUpload Preprocessing Setting Measure].[FileFormat],\" \\\n",
    "    \"[zSYS Analogic UI FileUpload Preprocessing Setting Measure].[HeaderCheck],\" \\\n",
    "    \"[zSYS Analogic UI FileUpload Preprocessing Setting Measure].[FileColumnDelimiter],\" \\\n",
    "    \"[zSYS Analogic UI FileUpload Preprocessing Setting Measure].[FileQuoteCharacter],\" \\\n",
    "    \"[zSYS Analogic UI FileUpload Preprocessing Setting Measure].[FileNoneEmptyCheck],\" \\\n",
    "    \"[zSYS Analogic UI FileUpload Preprocessing Setting Measure].[ExpectedColumnNr],\" \\\n",
    "    \"[zSYS Analogic UI FileUpload Preprocessing Setting Measure].[CharacterSetCheck],\" \\\n",
    "    \"[zSYS Analogic UI FileUpload Preprocessing Setting Measure].[Backup Before Override]}\" \\\n",
    "    \" on ROWS, \" \\\n",
    "    \"{[zSYS Analogic UI FileUpload Processing Template].[Template1]}\" \\\n",
    "    \" on COLUMNS\" \\\n",
    "    \"  FROM [zSYS Analogic UI FileUpload Preprocessing Setting]\"\n",
    "data2 = tm1_service.cubes.cells.execute_mdx(vx)\n",
    "\n",
    "df2 = build_pandas_dataframe_from_cellset(data2, multiindex=False)"
   ],
   "metadata": {
    "collapsed": false,
    "pycharm": {
     "name": "#%%\n"
    }
   },
   "execution_count": 83,
   "outputs": [
    {
     "ename": "TM1pyRestException",
     "evalue": "Text: '' - Status Code: 401 - Reason: 'Unauthorized' - Headers: {'Date': 'Thu, 11 Mar 2021 23:05:51 GMT', 'Server': 'Apache/2.4.32 (Win32) mod_authn_ntlm/1.0.8 OpenSSL/1.0.2n', 'Content-Type': 'text/plain', 'Content-Length': '0', 'OData-Version': '4.0', 'WWW-Authenticate': 'CAMPassport http://KSEED-DC1/ibmcognos/bi/v1/disp, CAMNamespace', 'Set-Cookie': 'TM1SessionId=3y53NG-OVwZSd3I34u4NB2jaKzU; Path=/analogicadminapi/api/; HttpOnly', 'Keep-Alive': 'timeout=5, max=100', 'Connection': 'Keep-Alive'}",
     "output_type": "error",
     "traceback": [
      "\u001B[1;31m---------------------------------------------------------------------------\u001B[0m",
      "\u001B[1;31mTM1pyRestException\u001B[0m                        Traceback (most recent call last)",
      "\u001B[1;32m<ipython-input-83-b57fd3b06f0f>\u001B[0m in \u001B[0;36m<module>\u001B[1;34m\u001B[0m\n\u001B[0;32m     14\u001B[0m     \u001B[1;34m\" on COLUMNS\"\u001B[0m\u001B[0;31m \u001B[0m\u001B[0;31m\\\u001B[0m\u001B[1;33m\u001B[0m\u001B[1;33m\u001B[0m\u001B[0m\n\u001B[0;32m     15\u001B[0m     \u001B[1;34m\"  FROM [zSYS Analogic UI FileUpload Preprocessing Setting]\"\u001B[0m\u001B[1;33m\u001B[0m\u001B[1;33m\u001B[0m\u001B[0m\n\u001B[1;32m---> 16\u001B[1;33m \u001B[0mdata2\u001B[0m \u001B[1;33m=\u001B[0m \u001B[0mtm1_service\u001B[0m\u001B[1;33m.\u001B[0m\u001B[0mcubes\u001B[0m\u001B[1;33m.\u001B[0m\u001B[0mcells\u001B[0m\u001B[1;33m.\u001B[0m\u001B[0mexecute_mdx\u001B[0m\u001B[1;33m(\u001B[0m\u001B[0mvx\u001B[0m\u001B[1;33m)\u001B[0m\u001B[1;33m\u001B[0m\u001B[1;33m\u001B[0m\u001B[0m\n\u001B[0m\u001B[0;32m     17\u001B[0m \u001B[1;33m\u001B[0m\u001B[0m\n\u001B[0;32m     18\u001B[0m \u001B[0mdf2\u001B[0m \u001B[1;33m=\u001B[0m \u001B[0mbuild_pandas_dataframe_from_cellset\u001B[0m\u001B[1;33m(\u001B[0m\u001B[0mdata2\u001B[0m\u001B[1;33m,\u001B[0m \u001B[0mmultiindex\u001B[0m\u001B[1;33m=\u001B[0m\u001B[1;32mFalse\u001B[0m\u001B[1;33m)\u001B[0m\u001B[1;33m\u001B[0m\u001B[1;33m\u001B[0m\u001B[0m\n",
      "\u001B[1;32mc:\\users\\user\\pycharmprojects\\knowledgeseed\\flaskproject\\lib\\site-packages\\TM1py\\Services\\CellService.py\u001B[0m in \u001B[0;36mexecute_mdx\u001B[1;34m(self, mdx, cell_properties, top, skip_contexts, skip, skip_zeros, skip_consolidated_cells, skip_rule_derived_cells, sandbox_name, **kwargs)\u001B[0m\n\u001B[0;32m    705\u001B[0m         \u001B[1;33m:\u001B[0m\u001B[1;32mreturn\u001B[0m\u001B[1;33m:\u001B[0m \u001B[0mcontent\u001B[0m \u001B[1;32min\u001B[0m \u001B[0msweet\u001B[0m \u001B[0mconcise\u001B[0m \u001B[0mstructure\u001B[0m\u001B[1;33m.\u001B[0m\u001B[1;33m\u001B[0m\u001B[1;33m\u001B[0m\u001B[0m\n\u001B[0;32m    706\u001B[0m         \"\"\"\n\u001B[1;32m--> 707\u001B[1;33m         \u001B[0mcellset_id\u001B[0m \u001B[1;33m=\u001B[0m \u001B[0mself\u001B[0m\u001B[1;33m.\u001B[0m\u001B[0mcreate_cellset\u001B[0m\u001B[1;33m(\u001B[0m\u001B[0mmdx\u001B[0m\u001B[1;33m=\u001B[0m\u001B[0mmdx\u001B[0m\u001B[1;33m,\u001B[0m \u001B[0msandbox_name\u001B[0m\u001B[1;33m=\u001B[0m\u001B[0msandbox_name\u001B[0m\u001B[1;33m,\u001B[0m \u001B[1;33m**\u001B[0m\u001B[0mkwargs\u001B[0m\u001B[1;33m)\u001B[0m\u001B[1;33m\u001B[0m\u001B[1;33m\u001B[0m\u001B[0m\n\u001B[0m\u001B[0;32m    708\u001B[0m         return self.extract_cellset(\n\u001B[0;32m    709\u001B[0m             \u001B[0mcellset_id\u001B[0m\u001B[1;33m=\u001B[0m\u001B[0mcellset_id\u001B[0m\u001B[1;33m,\u001B[0m\u001B[1;33m\u001B[0m\u001B[1;33m\u001B[0m\u001B[0m\n",
      "\u001B[1;32mc:\\users\\user\\pycharmprojects\\knowledgeseed\\flaskproject\\lib\\site-packages\\TM1py\\Services\\CellService.py\u001B[0m in \u001B[0;36mcreate_cellset\u001B[1;34m(self, mdx, sandbox_name, **kwargs)\u001B[0m\n\u001B[0;32m   1848\u001B[0m             \u001B[1;34m'MDX'\u001B[0m\u001B[1;33m:\u001B[0m \u001B[0mmdx\u001B[0m\u001B[1;33m\u001B[0m\u001B[1;33m\u001B[0m\u001B[0m\n\u001B[0;32m   1849\u001B[0m         }\n\u001B[1;32m-> 1850\u001B[1;33m         \u001B[0mresponse\u001B[0m \u001B[1;33m=\u001B[0m \u001B[0mself\u001B[0m\u001B[1;33m.\u001B[0m\u001B[0m_rest\u001B[0m\u001B[1;33m.\u001B[0m\u001B[0mPOST\u001B[0m\u001B[1;33m(\u001B[0m\u001B[0murl\u001B[0m\u001B[1;33m=\u001B[0m\u001B[0murl\u001B[0m\u001B[1;33m,\u001B[0m \u001B[0mdata\u001B[0m\u001B[1;33m=\u001B[0m\u001B[0mjson\u001B[0m\u001B[1;33m.\u001B[0m\u001B[0mdumps\u001B[0m\u001B[1;33m(\u001B[0m\u001B[0mdata\u001B[0m\u001B[1;33m,\u001B[0m \u001B[0mensure_ascii\u001B[0m\u001B[1;33m=\u001B[0m\u001B[1;32mFalse\u001B[0m\u001B[1;33m)\u001B[0m\u001B[1;33m,\u001B[0m \u001B[1;33m**\u001B[0m\u001B[0mkwargs\u001B[0m\u001B[1;33m)\u001B[0m\u001B[1;33m\u001B[0m\u001B[1;33m\u001B[0m\u001B[0m\n\u001B[0m\u001B[0;32m   1851\u001B[0m         \u001B[0mcellset_id\u001B[0m \u001B[1;33m=\u001B[0m \u001B[0mresponse\u001B[0m\u001B[1;33m.\u001B[0m\u001B[0mjson\u001B[0m\u001B[1;33m(\u001B[0m\u001B[1;33m)\u001B[0m\u001B[1;33m[\u001B[0m\u001B[1;34m'ID'\u001B[0m\u001B[1;33m]\u001B[0m\u001B[1;33m\u001B[0m\u001B[1;33m\u001B[0m\u001B[0m\n\u001B[0;32m   1852\u001B[0m         \u001B[1;32mreturn\u001B[0m \u001B[0mcellset_id\u001B[0m\u001B[1;33m\u001B[0m\u001B[1;33m\u001B[0m\u001B[0m\n",
      "\u001B[1;32mc:\\users\\user\\pycharmprojects\\knowledgeseed\\flaskproject\\lib\\site-packages\\TM1py\\Services\\RestService.py\u001B[0m in \u001B[0;36mwrapper\u001B[1;34m(self, url, data, encoding, async_requests_mode, **kwargs)\u001B[0m\n\u001B[0;32m     75\u001B[0m \u001B[1;33m\u001B[0m\u001B[0m\n\u001B[0;32m     76\u001B[0m             \u001B[1;31m# verify\u001B[0m\u001B[1;33m\u001B[0m\u001B[1;33m\u001B[0m\u001B[1;33m\u001B[0m\u001B[0m\n\u001B[1;32m---> 77\u001B[1;33m             \u001B[0mself\u001B[0m\u001B[1;33m.\u001B[0m\u001B[0mverify_response\u001B[0m\u001B[1;33m(\u001B[0m\u001B[0mresponse\u001B[0m\u001B[1;33m=\u001B[0m\u001B[0mresponse\u001B[0m\u001B[1;33m)\u001B[0m\u001B[1;33m\u001B[0m\u001B[1;33m\u001B[0m\u001B[0m\n\u001B[0m\u001B[0;32m     78\u001B[0m \u001B[1;33m\u001B[0m\u001B[0m\n\u001B[0;32m     79\u001B[0m             \u001B[1;31m# response encoding\u001B[0m\u001B[1;33m\u001B[0m\u001B[1;33m\u001B[0m\u001B[1;33m\u001B[0m\u001B[0m\n",
      "\u001B[1;32mc:\\users\\user\\pycharmprojects\\knowledgeseed\\flaskproject\\lib\\site-packages\\TM1py\\Services\\RestService.py\u001B[0m in \u001B[0;36mverify_response\u001B[1;34m(response)\u001B[0m\n\u001B[0;32m    434\u001B[0m         \"\"\"\n\u001B[0;32m    435\u001B[0m         \u001B[1;32mif\u001B[0m \u001B[1;32mnot\u001B[0m \u001B[0mresponse\u001B[0m\u001B[1;33m.\u001B[0m\u001B[0mok\u001B[0m\u001B[1;33m:\u001B[0m\u001B[1;33m\u001B[0m\u001B[1;33m\u001B[0m\u001B[0m\n\u001B[1;32m--> 436\u001B[1;33m             raise TM1pyRestException(response.text,\n\u001B[0m\u001B[0;32m    437\u001B[0m                                      \u001B[0mstatus_code\u001B[0m\u001B[1;33m=\u001B[0m\u001B[0mresponse\u001B[0m\u001B[1;33m.\u001B[0m\u001B[0mstatus_code\u001B[0m\u001B[1;33m,\u001B[0m\u001B[1;33m\u001B[0m\u001B[1;33m\u001B[0m\u001B[0m\n\u001B[0;32m    438\u001B[0m                                      \u001B[0mreason\u001B[0m\u001B[1;33m=\u001B[0m\u001B[0mresponse\u001B[0m\u001B[1;33m.\u001B[0m\u001B[0mreason\u001B[0m\u001B[1;33m,\u001B[0m\u001B[1;33m\u001B[0m\u001B[1;33m\u001B[0m\u001B[0m\n",
      "\u001B[1;31mTM1pyRestException\u001B[0m: Text: '' - Status Code: 401 - Reason: 'Unauthorized' - Headers: {'Date': 'Thu, 11 Mar 2021 23:05:51 GMT', 'Server': 'Apache/2.4.32 (Win32) mod_authn_ntlm/1.0.8 OpenSSL/1.0.2n', 'Content-Type': 'text/plain', 'Content-Length': '0', 'OData-Version': '4.0', 'WWW-Authenticate': 'CAMPassport http://KSEED-DC1/ibmcognos/bi/v1/disp, CAMNamespace', 'Set-Cookie': 'TM1SessionId=3y53NG-OVwZSd3I34u4NB2jaKzU; Path=/analogicadminapi/api/; HttpOnly', 'Keep-Alive': 'timeout=5, max=100', 'Connection': 'Keep-Alive'}"
     ]
    }
   ]
  },
  {
   "cell_type": "code",
   "execution_count": 57,
   "outputs": [],
   "source": [
    "\n",
    "nv = tm1_service.cubes.views.get_native_view('zSYS Analogic UI FileUpload Preprocessing Setting', 'Template_SettingReadView_for_tm1py', private=False)\n",
    "t = nv.MDX\n",
    "data = tm1_service.cubes.cells.execute_mdx(t)\n",
    "data\n",
    "df = build_pandas_dataframe_from_cellset(data, multiindex=False)"
   ],
   "metadata": {
    "collapsed": false,
    "pycharm": {
     "name": "#%%\n"
    }
   }
  },
  {
   "cell_type": "code",
   "execution_count": 58,
   "outputs": [
    {
     "data": {
      "text/plain": "  zSYS Analogic UI FileUpload Processing Template  \\\n9                                       Template1   \n8                                       Template1   \n7                                       Template1   \n0                                       Template1   \n4                                       Template1   \n2                                       Template1   \n6                                       Template1   \n5                                       Template1   \n1                                       Template1   \n3                                       Template1   \n\n  zSYS Analogic UI FileUpload Preprocessing Setting Measure  \\\n9                             Backup Before Override          \n8                                  CharacterSetCheck          \n7                                   ExpectedColumnNr          \n0                                     ExtensionCheck          \n4                                FileColumnDelimiter          \n2                                         FileFormat          \n6                                 FileNoneEmptyCheck          \n5                                 FileQuoteCharacter          \n1                                   ForcedTargetName          \n3                                        HeaderCheck          \n\n                                            Values  \n9                                              yes  \n8                                            UTF-8  \n7                                                5  \n0                                              yes  \n4                                                ;  \n2                                              csv  \n6                                              yes  \n5                                                \"  \n1                                        TEMPLATE1  \n3  \"TgtCube\";\"Version\";\"Period\";\"lineItem\";\"value\"  ",
      "text/html": "<div>\n<style scoped>\n    .dataframe tbody tr th:only-of-type {\n        vertical-align: middle;\n    }\n\n    .dataframe tbody tr th {\n        vertical-align: top;\n    }\n\n    .dataframe thead th {\n        text-align: right;\n    }\n</style>\n<table border=\"1\" class=\"dataframe\">\n  <thead>\n    <tr style=\"text-align: right;\">\n      <th></th>\n      <th>zSYS Analogic UI FileUpload Processing Template</th>\n      <th>zSYS Analogic UI FileUpload Preprocessing Setting Measure</th>\n      <th>Values</th>\n    </tr>\n  </thead>\n  <tbody>\n    <tr>\n      <th>9</th>\n      <td>Template1</td>\n      <td>Backup Before Override</td>\n      <td>yes</td>\n    </tr>\n    <tr>\n      <th>8</th>\n      <td>Template1</td>\n      <td>CharacterSetCheck</td>\n      <td>UTF-8</td>\n    </tr>\n    <tr>\n      <th>7</th>\n      <td>Template1</td>\n      <td>ExpectedColumnNr</td>\n      <td>5</td>\n    </tr>\n    <tr>\n      <th>0</th>\n      <td>Template1</td>\n      <td>ExtensionCheck</td>\n      <td>yes</td>\n    </tr>\n    <tr>\n      <th>4</th>\n      <td>Template1</td>\n      <td>FileColumnDelimiter</td>\n      <td>;</td>\n    </tr>\n    <tr>\n      <th>2</th>\n      <td>Template1</td>\n      <td>FileFormat</td>\n      <td>csv</td>\n    </tr>\n    <tr>\n      <th>6</th>\n      <td>Template1</td>\n      <td>FileNoneEmptyCheck</td>\n      <td>yes</td>\n    </tr>\n    <tr>\n      <th>5</th>\n      <td>Template1</td>\n      <td>FileQuoteCharacter</td>\n      <td>\"</td>\n    </tr>\n    <tr>\n      <th>1</th>\n      <td>Template1</td>\n      <td>ForcedTargetName</td>\n      <td>TEMPLATE1</td>\n    </tr>\n    <tr>\n      <th>3</th>\n      <td>Template1</td>\n      <td>HeaderCheck</td>\n      <td>\"TgtCube\";\"Version\";\"Period\";\"lineItem\";\"value\"</td>\n    </tr>\n  </tbody>\n</table>\n</div>"
     },
     "execution_count": 58,
     "metadata": {},
     "output_type": "execute_result"
    }
   ],
   "source": [
    "df"
   ],
   "metadata": {
    "collapsed": false,
    "pycharm": {
     "name": "#%%\n"
    }
   }
  },
  {
   "cell_type": "code",
   "execution_count": 60,
   "outputs": [
    {
     "name": "stdout",
     "output_type": "stream",
     "text": [
      "SELECT\r\n",
      "{[ZSYSANALOGICUIFILEUPLOADPROCESSINGTEMPLATE].[ZSYSANALOGICUIFILEUPLOADPROCESSINGTEMPLATE].[TEMPLATE1]} ON 0,\r\n",
      "{[ZSYSANALOGICUIFILEUPLOADPREPROCESSINGSETTINGMEASURE].[ZSYSANALOGICUIFILEUPLOADPREPROCESSINGSETTINGMEASURE].[EXTENSIONCHECK],[ZSYSANALOGICUIFILEUPLOADPREPROCESSINGSETTINGMEASURE].[ZSYSANALOGICUIFILEUPLOADPREPROCESSINGSETTINGMEASURE].[FORCEDTARGETNAME],[ZSYSANALOGICUIFILEUPLOADPREPROCESSINGSETTINGMEASURE].[ZSYSANALOGICUIFILEUPLOADPREPROCESSINGSETTINGMEASURE].[FILEFORMAT],[ZSYSANALOGICUIFILEUPLOADPREPROCESSINGSETTINGMEASURE].[ZSYSANALOGICUIFILEUPLOADPREPROCESSINGSETTINGMEASURE].[HEADERCHECK],[ZSYSANALOGICUIFILEUPLOADPREPROCESSINGSETTINGMEASURE].[ZSYSANALOGICUIFILEUPLOADPREPROCESSINGSETTINGMEASURE].[FILECOLUMNDELIMITER],[ZSYSANALOGICUIFILEUPLOADPREPROCESSINGSETTINGMEASURE].[ZSYSANALOGICUIFILEUPLOADPREPROCESSINGSETTINGMEASURE].[FILEQUOTECHARACTER],[ZSYSANALOGICUIFILEUPLOADPREPROCESSINGSETTINGMEASURE].[ZSYSANALOGICUIFILEUPLOADPREPROCESSINGSETTINGMEASURE].[FILENONEEMPTYCHECK],[ZSYSANALOGICUIFILEUPLOADPREPROCESSINGSETTINGMEASURE].[ZSYSANALOGICUIFILEUPLOADPREPROCESSINGSETTINGMEASURE].[EXPECTEDCOLUMNNR],[ZSYSANALOGICUIFILEUPLOADPREPROCESSINGSETTINGMEASURE].[ZSYSANALOGICUIFILEUPLOADPREPROCESSINGSETTINGMEASURE].[CHARACTERSETCHECK],[ZSYSANALOGICUIFILEUPLOADPREPROCESSINGSETTINGMEASURE].[ZSYSANALOGICUIFILEUPLOADPREPROCESSINGSETTINGMEASURE].[BACKUPBEFOREOVERRIDE]} ON 1\r\n",
      "FROM [ZSYSANALOGICUIFILEUPLOADPREPROCESSINGSETTING]\n"
     ]
    }
   ],
   "source": [
    "print(t)"
   ],
   "metadata": {
    "collapsed": false,
    "pycharm": {
     "name": "#%%\n"
    }
   }
  },
  {
   "cell_type": "code",
   "execution_count": 59,
   "outputs": [
    {
     "ename": "TM1pyRestException",
     "evalue": "Text: '{\"error\":{\"code\":\"501\",\"message\":\"Sequence gap in selection axes, at axis 0, 'COLUMNS' (rte 32)\"}}' - Status Code: 400 - Reason: 'Bad Request' - Headers: {'Date': 'Wed, 10 Mar 2021 22:12:18 GMT', 'Server': 'Apache/2.4.32 (Win32) mod_authn_ntlm/1.0.8 OpenSSL/1.0.2n', 'Content-Length': '115', 'Content-Encoding': 'gzip', 'Cache-Control': 'no-cache', 'Content-Type': 'application/json; charset=utf-8', 'OData-Version': '4.0', 'Connection': 'close'}",
     "output_type": "error",
     "traceback": [
      "\u001B[1;31m---------------------------------------------------------------------------\u001B[0m",
      "\u001B[1;31mTM1pyRestException\u001B[0m                        Traceback (most recent call last)",
      "\u001B[1;32m<ipython-input-59-933e83a4e2a7>\u001B[0m in \u001B[0;36m<module>\u001B[1;34m\u001B[0m\n\u001B[0;32m      1\u001B[0m \u001B[0mmdx\u001B[0m \u001B[1;33m=\u001B[0m \u001B[1;34m'SELECT\\r\\n{[ZSYSANALOGICUIFILEUPLOADPROCESSINGTEMPLATE].[ZSYSANALOGICUIFILEUPLOADPROCESSINGTEMPLATE].[TEMPLATE1]} ON 0,\\r\\n{[ZSYSANALOGICUIFILEUPLOADPREPROCESSINGSETTINGMEASURE].[ZSYSANALOGICUIFILEUPLOADPREPROCESSINGSETTINGMEASURE].[EXTENSIONCHECK],[ZSYSANALOGICUIFILEUPLOADPREPROCESSINGSETTINGMEASURE].[ZSYSANALOGICUIFILEUPLOADPREPROCESSINGSETTINGMEASURE].[FORCEDTARGETNAME],[ZSYSANALOGICUIFILEUPLOADPREPROCESSINGSETTINGMEASURE].[ZSYSANALOGICUIFILEUPLOADPREPROCESSINGSETTINGMEASURE].[FILEFORMAT],[ZSYSANALOGICUIFILEUPLOADPREPROCESSINGSETTINGMEASURE].[ZSYSANALOGICUIFILEUPLOADPREPROCESSINGSETTINGMEASURE].[HEADERCHECK],[ZSYSANALOGICUIFILEUPLOADPREPROCESSINGSETTINGMEASURE].[ZSYSANALOGICUIFILEUPLOADPREPROCESSINGSETTINGMEASURE].[FILECOLUMNDELIMITER],[ZSYSANALOGICUIFILEUPLOADPREPROCESSINGSETTINGMEASURE].[ZSYSANALOGICUIFILEUPLOADPREPROCESSINGSETTINGMEASURE].[FILEQUOTECHARACTER],[ZSYSANALOGICUIFILEUPLOADPREPROCESSINGSETTINGMEASURE].[ZSYSANALOGICUIFILEUPLOADPREPROCESSINGSETTINGMEASURE].[FILENONEEMPTYCHECK],[ZSYSANALOGICUIFILEUPLOADPREPROCESSINGSETTINGMEASURE].[ZSYSANALOGICUIFILEUPLOADPREPROCESSINGSETTINGMEASURE].[EXPECTEDCOLUMNNR],[ZSYSANALOGICUIFILEUPLOADPREPROCESSINGSETTINGMEASURE].[ZSYSANALOGICUIFILEUPLOADPREPROCESSINGSETTINGMEASURE].[CHARACTERSETCHECK],[ZSYSANALOGICUIFILEUPLOADPREPROCESSINGSETTINGMEASURE].[ZSYSANALOGICUIFILEUPLOADPREPROCESSINGSETTINGMEASURE].[BACKUPBEFOREOVERRIDE]} ON 1\\r\\nFROM [ZSYSANALOGICUIFILEUPLOADPREPROCESSINGSETTING]'\u001B[0m\u001B[1;33m\u001B[0m\u001B[1;33m\u001B[0m\u001B[0m\n\u001B[1;32m----> 2\u001B[1;33m \u001B[0mdata2\u001B[0m \u001B[1;33m=\u001B[0m \u001B[0mtm1_service\u001B[0m\u001B[1;33m.\u001B[0m\u001B[0mcubes\u001B[0m\u001B[1;33m.\u001B[0m\u001B[0mcells\u001B[0m\u001B[1;33m.\u001B[0m\u001B[0mexecute_mdx\u001B[0m\u001B[1;33m(\u001B[0m\u001B[0mvx\u001B[0m\u001B[1;33m)\u001B[0m\u001B[1;33m\u001B[0m\u001B[1;33m\u001B[0m\u001B[0m\n\u001B[0m",
      "\u001B[1;32mc:\\users\\user\\pycharmprojects\\knowledgeseed\\flaskproject\\lib\\site-packages\\TM1py\\Services\\CellService.py\u001B[0m in \u001B[0;36mexecute_mdx\u001B[1;34m(self, mdx, cell_properties, top, skip_contexts, skip, skip_zeros, skip_consolidated_cells, skip_rule_derived_cells, sandbox_name, **kwargs)\u001B[0m\n\u001B[0;32m    705\u001B[0m         \u001B[1;33m:\u001B[0m\u001B[1;32mreturn\u001B[0m\u001B[1;33m:\u001B[0m \u001B[0mcontent\u001B[0m \u001B[1;32min\u001B[0m \u001B[0msweet\u001B[0m \u001B[0mconcise\u001B[0m \u001B[0mstructure\u001B[0m\u001B[1;33m.\u001B[0m\u001B[1;33m\u001B[0m\u001B[1;33m\u001B[0m\u001B[0m\n\u001B[0;32m    706\u001B[0m         \"\"\"\n\u001B[1;32m--> 707\u001B[1;33m         \u001B[0mcellset_id\u001B[0m \u001B[1;33m=\u001B[0m \u001B[0mself\u001B[0m\u001B[1;33m.\u001B[0m\u001B[0mcreate_cellset\u001B[0m\u001B[1;33m(\u001B[0m\u001B[0mmdx\u001B[0m\u001B[1;33m=\u001B[0m\u001B[0mmdx\u001B[0m\u001B[1;33m,\u001B[0m \u001B[0msandbox_name\u001B[0m\u001B[1;33m=\u001B[0m\u001B[0msandbox_name\u001B[0m\u001B[1;33m,\u001B[0m \u001B[1;33m**\u001B[0m\u001B[0mkwargs\u001B[0m\u001B[1;33m)\u001B[0m\u001B[1;33m\u001B[0m\u001B[1;33m\u001B[0m\u001B[0m\n\u001B[0m\u001B[0;32m    708\u001B[0m         return self.extract_cellset(\n\u001B[0;32m    709\u001B[0m             \u001B[0mcellset_id\u001B[0m\u001B[1;33m=\u001B[0m\u001B[0mcellset_id\u001B[0m\u001B[1;33m,\u001B[0m\u001B[1;33m\u001B[0m\u001B[1;33m\u001B[0m\u001B[0m\n",
      "\u001B[1;32mc:\\users\\user\\pycharmprojects\\knowledgeseed\\flaskproject\\lib\\site-packages\\TM1py\\Services\\CellService.py\u001B[0m in \u001B[0;36mcreate_cellset\u001B[1;34m(self, mdx, sandbox_name, **kwargs)\u001B[0m\n\u001B[0;32m   1848\u001B[0m             \u001B[1;34m'MDX'\u001B[0m\u001B[1;33m:\u001B[0m \u001B[0mmdx\u001B[0m\u001B[1;33m\u001B[0m\u001B[1;33m\u001B[0m\u001B[0m\n\u001B[0;32m   1849\u001B[0m         }\n\u001B[1;32m-> 1850\u001B[1;33m         \u001B[0mresponse\u001B[0m \u001B[1;33m=\u001B[0m \u001B[0mself\u001B[0m\u001B[1;33m.\u001B[0m\u001B[0m_rest\u001B[0m\u001B[1;33m.\u001B[0m\u001B[0mPOST\u001B[0m\u001B[1;33m(\u001B[0m\u001B[0murl\u001B[0m\u001B[1;33m=\u001B[0m\u001B[0murl\u001B[0m\u001B[1;33m,\u001B[0m \u001B[0mdata\u001B[0m\u001B[1;33m=\u001B[0m\u001B[0mjson\u001B[0m\u001B[1;33m.\u001B[0m\u001B[0mdumps\u001B[0m\u001B[1;33m(\u001B[0m\u001B[0mdata\u001B[0m\u001B[1;33m,\u001B[0m \u001B[0mensure_ascii\u001B[0m\u001B[1;33m=\u001B[0m\u001B[1;32mFalse\u001B[0m\u001B[1;33m)\u001B[0m\u001B[1;33m,\u001B[0m \u001B[1;33m**\u001B[0m\u001B[0mkwargs\u001B[0m\u001B[1;33m)\u001B[0m\u001B[1;33m\u001B[0m\u001B[1;33m\u001B[0m\u001B[0m\n\u001B[0m\u001B[0;32m   1851\u001B[0m         \u001B[0mcellset_id\u001B[0m \u001B[1;33m=\u001B[0m \u001B[0mresponse\u001B[0m\u001B[1;33m.\u001B[0m\u001B[0mjson\u001B[0m\u001B[1;33m(\u001B[0m\u001B[1;33m)\u001B[0m\u001B[1;33m[\u001B[0m\u001B[1;34m'ID'\u001B[0m\u001B[1;33m]\u001B[0m\u001B[1;33m\u001B[0m\u001B[1;33m\u001B[0m\u001B[0m\n\u001B[0;32m   1852\u001B[0m         \u001B[1;32mreturn\u001B[0m \u001B[0mcellset_id\u001B[0m\u001B[1;33m\u001B[0m\u001B[1;33m\u001B[0m\u001B[0m\n",
      "\u001B[1;32mc:\\users\\user\\pycharmprojects\\knowledgeseed\\flaskproject\\lib\\site-packages\\TM1py\\Services\\RestService.py\u001B[0m in \u001B[0;36mwrapper\u001B[1;34m(self, url, data, encoding, async_requests_mode, **kwargs)\u001B[0m\n\u001B[0;32m     75\u001B[0m \u001B[1;33m\u001B[0m\u001B[0m\n\u001B[0;32m     76\u001B[0m             \u001B[1;31m# verify\u001B[0m\u001B[1;33m\u001B[0m\u001B[1;33m\u001B[0m\u001B[1;33m\u001B[0m\u001B[0m\n\u001B[1;32m---> 77\u001B[1;33m             \u001B[0mself\u001B[0m\u001B[1;33m.\u001B[0m\u001B[0mverify_response\u001B[0m\u001B[1;33m(\u001B[0m\u001B[0mresponse\u001B[0m\u001B[1;33m=\u001B[0m\u001B[0mresponse\u001B[0m\u001B[1;33m)\u001B[0m\u001B[1;33m\u001B[0m\u001B[1;33m\u001B[0m\u001B[0m\n\u001B[0m\u001B[0;32m     78\u001B[0m \u001B[1;33m\u001B[0m\u001B[0m\n\u001B[0;32m     79\u001B[0m             \u001B[1;31m# response encoding\u001B[0m\u001B[1;33m\u001B[0m\u001B[1;33m\u001B[0m\u001B[1;33m\u001B[0m\u001B[0m\n",
      "\u001B[1;32mc:\\users\\user\\pycharmprojects\\knowledgeseed\\flaskproject\\lib\\site-packages\\TM1py\\Services\\RestService.py\u001B[0m in \u001B[0;36mverify_response\u001B[1;34m(response)\u001B[0m\n\u001B[0;32m    434\u001B[0m         \"\"\"\n\u001B[0;32m    435\u001B[0m         \u001B[1;32mif\u001B[0m \u001B[1;32mnot\u001B[0m \u001B[0mresponse\u001B[0m\u001B[1;33m.\u001B[0m\u001B[0mok\u001B[0m\u001B[1;33m:\u001B[0m\u001B[1;33m\u001B[0m\u001B[1;33m\u001B[0m\u001B[0m\n\u001B[1;32m--> 436\u001B[1;33m             raise TM1pyRestException(response.text,\n\u001B[0m\u001B[0;32m    437\u001B[0m                                      \u001B[0mstatus_code\u001B[0m\u001B[1;33m=\u001B[0m\u001B[0mresponse\u001B[0m\u001B[1;33m.\u001B[0m\u001B[0mstatus_code\u001B[0m\u001B[1;33m,\u001B[0m\u001B[1;33m\u001B[0m\u001B[1;33m\u001B[0m\u001B[0m\n\u001B[0;32m    438\u001B[0m                                      \u001B[0mreason\u001B[0m\u001B[1;33m=\u001B[0m\u001B[0mresponse\u001B[0m\u001B[1;33m.\u001B[0m\u001B[0mreason\u001B[0m\u001B[1;33m,\u001B[0m\u001B[1;33m\u001B[0m\u001B[1;33m\u001B[0m\u001B[0m\n",
      "\u001B[1;31mTM1pyRestException\u001B[0m: Text: '{\"error\":{\"code\":\"501\",\"message\":\"Sequence gap in selection axes, at axis 0, 'COLUMNS' (rte 32)\"}}' - Status Code: 400 - Reason: 'Bad Request' - Headers: {'Date': 'Wed, 10 Mar 2021 22:12:18 GMT', 'Server': 'Apache/2.4.32 (Win32) mod_authn_ntlm/1.0.8 OpenSSL/1.0.2n', 'Content-Length': '115', 'Content-Encoding': 'gzip', 'Cache-Control': 'no-cache', 'Content-Type': 'application/json; charset=utf-8', 'OData-Version': '4.0', 'Connection': 'close'}"
     ]
    }
   ],
   "source": [
    "mdx = 'SELECT\\r\\n{[ZSYSANALOGICUIFILEUPLOADPROCESSINGTEMPLATE].[ZSYSANALOGICUIFILEUPLOADPROCESSINGTEMPLATE].[TEMPLATE1]} ON 0,\\r\\n{[ZSYSANALOGICUIFILEUPLOADPREPROCESSINGSETTINGMEASURE].[ZSYSANALOGICUIFILEUPLOADPREPROCESSINGSETTINGMEASURE].[EXTENSIONCHECK],[ZSYSANALOGICUIFILEUPLOADPREPROCESSINGSETTINGMEASURE].[ZSYSANALOGICUIFILEUPLOADPREPROCESSINGSETTINGMEASURE].[FORCEDTARGETNAME],[ZSYSANALOGICUIFILEUPLOADPREPROCESSINGSETTINGMEASURE].[ZSYSANALOGICUIFILEUPLOADPREPROCESSINGSETTINGMEASURE].[FILEFORMAT],[ZSYSANALOGICUIFILEUPLOADPREPROCESSINGSETTINGMEASURE].[ZSYSANALOGICUIFILEUPLOADPREPROCESSINGSETTINGMEASURE].[HEADERCHECK],[ZSYSANALOGICUIFILEUPLOADPREPROCESSINGSETTINGMEASURE].[ZSYSANALOGICUIFILEUPLOADPREPROCESSINGSETTINGMEASURE].[FILECOLUMNDELIMITER],[ZSYSANALOGICUIFILEUPLOADPREPROCESSINGSETTINGMEASURE].[ZSYSANALOGICUIFILEUPLOADPREPROCESSINGSETTINGMEASURE].[FILEQUOTECHARACTER],[ZSYSANALOGICUIFILEUPLOADPREPROCESSINGSETTINGMEASURE].[ZSYSANALOGICUIFILEUPLOADPREPROCESSINGSETTINGMEASURE].[FILENONEEMPTYCHECK],[ZSYSANALOGICUIFILEUPLOADPREPROCESSINGSETTINGMEASURE].[ZSYSANALOGICUIFILEUPLOADPREPROCESSINGSETTINGMEASURE].[EXPECTEDCOLUMNNR],[ZSYSANALOGICUIFILEUPLOADPREPROCESSINGSETTINGMEASURE].[ZSYSANALOGICUIFILEUPLOADPREPROCESSINGSETTINGMEASURE].[CHARACTERSETCHECK],[ZSYSANALOGICUIFILEUPLOADPREPROCESSINGSETTINGMEASURE].[ZSYSANALOGICUIFILEUPLOADPREPROCESSINGSETTINGMEASURE].[BACKUPBEFOREOVERRIDE]} ON 1\\r\\nFROM [ZSYSANALOGICUIFILEUPLOADPREPROCESSINGSETTING]'\n",
    "data2 = tm1_service.cubes.cells.execute_mdx(vx)"
   ],
   "metadata": {
    "collapsed": false,
    "pycharm": {
     "name": "#%%\n"
    }
   }
  },
  {
   "cell_type": "code",
   "execution_count": 84,
   "outputs": [
    {
     "data": {
      "text/plain": "  zSYS Analogic UI FileUpload Processing Template  \\\n9                                       Template2   \n8                                       Template2   \n7                                       Template2   \n0                                       Template2   \n4                                       Template2   \n2                                       Template2   \n6                                       Template2   \n5                                       Template2   \n1                                       Template2   \n3                                       Template2   \n\n  zSYS Analogic UI FileUpload Preprocessing Setting Measure Values  \n9                             Backup Before Override            no  \n8                                  CharacterSetCheck         ASCII  \n7                                   ExpectedColumnNr             8  \n0                                     ExtensionCheck           yes  \n4                                FileColumnDelimiter           009  \n2                                         FileFormat           txt  \n6                                 FileNoneEmptyCheck           yes  \n5                                 FileQuoteCharacter             \"  \n1                                   ForcedTargetName                \n3                                        HeaderCheck                ",
      "text/html": "<div>\n<style scoped>\n    .dataframe tbody tr th:only-of-type {\n        vertical-align: middle;\n    }\n\n    .dataframe tbody tr th {\n        vertical-align: top;\n    }\n\n    .dataframe thead th {\n        text-align: right;\n    }\n</style>\n<table border=\"1\" class=\"dataframe\">\n  <thead>\n    <tr style=\"text-align: right;\">\n      <th></th>\n      <th>zSYS Analogic UI FileUpload Processing Template</th>\n      <th>zSYS Analogic UI FileUpload Preprocessing Setting Measure</th>\n      <th>Values</th>\n    </tr>\n  </thead>\n  <tbody>\n    <tr>\n      <th>9</th>\n      <td>Template2</td>\n      <td>Backup Before Override</td>\n      <td>no</td>\n    </tr>\n    <tr>\n      <th>8</th>\n      <td>Template2</td>\n      <td>CharacterSetCheck</td>\n      <td>ASCII</td>\n    </tr>\n    <tr>\n      <th>7</th>\n      <td>Template2</td>\n      <td>ExpectedColumnNr</td>\n      <td>8</td>\n    </tr>\n    <tr>\n      <th>0</th>\n      <td>Template2</td>\n      <td>ExtensionCheck</td>\n      <td>yes</td>\n    </tr>\n    <tr>\n      <th>4</th>\n      <td>Template2</td>\n      <td>FileColumnDelimiter</td>\n      <td>009</td>\n    </tr>\n    <tr>\n      <th>2</th>\n      <td>Template2</td>\n      <td>FileFormat</td>\n      <td>txt</td>\n    </tr>\n    <tr>\n      <th>6</th>\n      <td>Template2</td>\n      <td>FileNoneEmptyCheck</td>\n      <td>yes</td>\n    </tr>\n    <tr>\n      <th>5</th>\n      <td>Template2</td>\n      <td>FileQuoteCharacter</td>\n      <td>\"</td>\n    </tr>\n    <tr>\n      <th>1</th>\n      <td>Template2</td>\n      <td>ForcedTargetName</td>\n      <td></td>\n    </tr>\n    <tr>\n      <th>3</th>\n      <td>Template2</td>\n      <td>HeaderCheck</td>\n      <td></td>\n    </tr>\n  </tbody>\n</table>\n</div>"
     },
     "execution_count": 84,
     "metadata": {},
     "output_type": "execute_result"
    }
   ],
   "source": [
    "df2"
   ],
   "metadata": {
    "collapsed": false,
    "pycharm": {
     "name": "#%%\n"
    }
   }
  },
  {
   "cell_type": "code",
   "execution_count": 73,
   "outputs": [
    {
     "name": "stdout",
     "output_type": "stream",
     "text": [
      "(('[zSYS Analogic UI FileUpload Processing Template].[zSYS Analogic UI FileUpload Processing Template].[Template2]', '[zSYS Analogic UI FileUpload Preprocessing Setting Measure].[zSYS Analogic UI FileUpload Preprocessing Setting Measure].[ExtensionCheck]'), {'Value': 'yes'})\n",
      "(('[zSYS Analogic UI FileUpload Processing Template].[zSYS Analogic UI FileUpload Processing Template].[Template2]', '[zSYS Analogic UI FileUpload Preprocessing Setting Measure].[zSYS Analogic UI FileUpload Preprocessing Setting Measure].[ForcedTargetName]'), {'Value': ''})\n",
      "(('[zSYS Analogic UI FileUpload Processing Template].[zSYS Analogic UI FileUpload Processing Template].[Template2]', '[zSYS Analogic UI FileUpload Preprocessing Setting Measure].[zSYS Analogic UI FileUpload Preprocessing Setting Measure].[FileFormat]'), {'Value': 'txt'})\n",
      "(('[zSYS Analogic UI FileUpload Processing Template].[zSYS Analogic UI FileUpload Processing Template].[Template2]', '[zSYS Analogic UI FileUpload Preprocessing Setting Measure].[zSYS Analogic UI FileUpload Preprocessing Setting Measure].[HeaderCheck]'), {'Value': ''})\n",
      "(('[zSYS Analogic UI FileUpload Processing Template].[zSYS Analogic UI FileUpload Processing Template].[Template2]', '[zSYS Analogic UI FileUpload Preprocessing Setting Measure].[zSYS Analogic UI FileUpload Preprocessing Setting Measure].[FileColumnDelimiter]'), {'Value': '009'})\n",
      "(('[zSYS Analogic UI FileUpload Processing Template].[zSYS Analogic UI FileUpload Processing Template].[Template2]', '[zSYS Analogic UI FileUpload Preprocessing Setting Measure].[zSYS Analogic UI FileUpload Preprocessing Setting Measure].[FileQuoteCharacter]'), {'Value': '\"'})\n",
      "(('[zSYS Analogic UI FileUpload Processing Template].[zSYS Analogic UI FileUpload Processing Template].[Template2]', '[zSYS Analogic UI FileUpload Preprocessing Setting Measure].[zSYS Analogic UI FileUpload Preprocessing Setting Measure].[FileNoneEmptyCheck]'), {'Value': 'yes'})\n",
      "(('[zSYS Analogic UI FileUpload Processing Template].[zSYS Analogic UI FileUpload Processing Template].[Template2]', '[zSYS Analogic UI FileUpload Preprocessing Setting Measure].[zSYS Analogic UI FileUpload Preprocessing Setting Measure].[ExpectedColumnNr]'), {'Value': 8})\n",
      "(('[zSYS Analogic UI FileUpload Processing Template].[zSYS Analogic UI FileUpload Processing Template].[Template2]', '[zSYS Analogic UI FileUpload Preprocessing Setting Measure].[zSYS Analogic UI FileUpload Preprocessing Setting Measure].[CharacterSetCheck]'), {'Value': 'ASCII'})\n",
      "(('[zSYS Analogic UI FileUpload Processing Template].[zSYS Analogic UI FileUpload Processing Template].[Template2]', '[zSYS Analogic UI FileUpload Preprocessing Setting Measure].[zSYS Analogic UI FileUpload Preprocessing Setting Measure].[Backup Before Override]'), {'Value': 'no'})\n"
     ]
    },
    {
     "data": {
      "text/plain": "['yes', '', 'txt', '', '009', '\"', 'yes', 8, 'ASCII', 'no']"
     },
     "execution_count": 73,
     "metadata": {},
     "output_type": "execute_result"
    }
   ],
   "source": [
    "for c in data2.items():\n",
    "    print(c)\n",
    "values = [cell['Value'] for cell in data2.values()]\n",
    "values"
   ],
   "metadata": {
    "collapsed": false,
    "pycharm": {
     "name": "#%%\n"
    }
   }
  },
  {
   "cell_type": "code",
   "execution_count": 81,
   "outputs": [],
   "source": [
    "f = df2.set_index('zSYS Analogic UI FileUpload Preprocessing Setting Measure').to_dict()['Values']"
   ],
   "metadata": {
    "collapsed": false,
    "pycharm": {
     "name": "#%%\n"
    }
   }
  },
  {
   "cell_type": "code",
   "execution_count": 82,
   "outputs": [
    {
     "data": {
      "text/plain": "8"
     },
     "execution_count": 82,
     "metadata": {},
     "output_type": "execute_result"
    }
   ],
   "source": [
    "f.get('ExpectedColumnNr')"
   ],
   "metadata": {
    "collapsed": false,
    "pycharm": {
     "name": "#%%\n"
    }
   }
  },
  {
   "cell_type": "code",
   "execution_count": 7,
   "outputs": [],
   "source": [
    "s = '009'\n",
    "if s.isnumeric():\n",
    "    t = chr(int(s))"
   ],
   "metadata": {
    "collapsed": false,
    "pycharm": {
     "name": "#%%\n"
    }
   }
  },
  {
   "cell_type": "code",
   "execution_count": 8,
   "outputs": [
    {
     "data": {
      "text/plain": "'\\t'"
     },
     "execution_count": 8,
     "metadata": {},
     "output_type": "execute_result"
    }
   ],
   "source": [
    "t"
   ],
   "metadata": {
    "collapsed": false,
    "pycharm": {
     "name": "#%%\n"
    }
   }
  }
 ],
 "metadata": {
  "kernelspec": {
   "display_name": "Python 3",
   "language": "python",
   "name": "python3"
  },
  "language_info": {
   "codemirror_mode": {
    "name": "ipython",
    "version": 2
   },
   "file_extension": ".py",
   "mimetype": "text/x-python",
   "name": "python",
   "nbconvert_exporter": "python",
   "pygments_lexer": "ipython2",
   "version": "2.7.6"
  }
 },
 "nbformat": 4,
 "nbformat_minor": 0
}