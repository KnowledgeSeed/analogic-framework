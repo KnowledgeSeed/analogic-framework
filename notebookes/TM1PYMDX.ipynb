{
 "cells": [
  {
   "cell_type": "markdown",
   "metadata": {},
   "source": [
    "# TM1py Get MDX From View"
   ]
  },
  {
   "cell_type": "markdown",
   "metadata": {},
   "source": [
    "Import python packages"
   ]
  },
  {
   "cell_type": "code",
   "execution_count": 8,
   "metadata": {},
   "outputs": [],
   "source": [
    "import matplotlib\n",
    "import matplotlib.pyplot as plt\n",
    "%matplotlib inline\n",
    "\n",
    "from TM1py import TM1Service\n",
    "from TM1py.Objects import Cube, Dimension, Hierarchy, Element\n",
    "from datetime import date, timedelta\n",
    "import datetime\n",
    "\n",
    "def daterange(start_date, end_date):\n",
    "    for n in range(int((end_date - start_date).days)):\n",
    "        yield start_date + timedelta(n)"
   ]
  },
  {
   "cell_type": "markdown",
   "metadata": {},
   "source": [
    "TM1py connection"
   ]
  },
  {
   "cell_type": "code",
   "execution_count": 9,
   "metadata": {},
   "outputs": [],
   "source": [
    "address=\"https://hq.coresystems.hu:5125/analogicadminapi\"\n",
    "namespace = \"knowledgeseed\"\n",
    "user= \"tm1py\"\n",
    "gateway = None\n",
    "password= \"2bffS8hcbJqa7xdA\"\n",
    "ssl=False\n",
    "\n",
    "tm1 = TM1Service(\n",
    "            base_url=address,\n",
    "            user=user,\n",
    "            password=password,\n",
    "            namespace=namespace,\n",
    "            gateway=gateway,\n",
    "            ssl=ssl)"
   ]
  },
  {
   "cell_type": "code",
   "execution_count": 10,
   "metadata": {},
   "outputs": [],
   "source": [
    "nv = tm1.cubes.views.get_native_view('Subscription Input', 'Input Tábla', private=False)"
   ]
  },
  {
   "cell_type": "code",
   "execution_count": 11,
   "metadata": {},
   "outputs": [
    {
     "data": {
      "text/plain": [
       "'SELECT {[Subscription Input Measure].[Calculated],[Subscription Input Measure].[Input],[Subscription Input Measure].[Final]} on ROWS, {[Planning Time Line].[Y-1],[Planning Time Line].[Y001],[Planning Time Line].[Y002],[Planning Time Line].[Y003],[Planning Time Line].[Y004],[Planning Time Line].[Y005],[Planning Time Line].[Y006],[Planning Time Line].[Y007],[Planning Time Line].[Y008],[Planning Time Line].[Y009],[Planning Time Line].[Y010],[Planning Time Line].[Y011],[Planning Time Line].[Y012]} on COLUMNS  FROM [Subscription Input] WHERE ([Modelling Item].[Base],[Product Input].[Digital],[Subscription Movement].[Migrated Increase]) '"
      ]
     },
     "execution_count": 11,
     "metadata": {},
     "output_type": "execute_result"
    }
   ],
   "source": [
    "nv.MDX"
   ]
  },
  {
   "cell_type": "code",
   "execution_count": null,
   "metadata": {},
   "outputs": [],
   "source": []
  }
 ],
 "metadata": {
  "kernelspec": {
   "display_name": "Python 3",
   "language": "python",
   "name": "python3"
  },
  "language_info": {
   "codemirror_mode": {
    "name": "ipython",
    "version": 3
   },
   "file_extension": ".py",
   "mimetype": "text/x-python",
   "name": "python",
   "nbconvert_exporter": "python",
   "pygments_lexer": "ipython3",
   "version": "3.7.3"
  }
 },
 "nbformat": 4,
 "nbformat_minor": 2
}