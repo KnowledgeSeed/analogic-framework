{
 "cells": [
  {
   "cell_type": "code",
   "execution_count": 18,
   "metadata": {
    "collapsed": true
   },
   "outputs": [],
   "source": [
    "from TM1py import TM1Service\n",
    "from TM1py.Objects import Cube, Dimension, Hierarchy, Element\n",
    "from datetime import date, timedelta\n",
    "import datetime\n",
    "from TM1py.Utils.Utils import build_pandas_dataframe_from_cellset\n",
    "\n",
    "from TM1py import TM1Service"
   ]
  },
  {
   "cell_type": "code",
   "execution_count": 19,
   "outputs": [],
   "source": [
    "address=\"https://dev.knowledgeseed.ch:5125/rochebpspapi\"\n",
    "namespace = \"knowledgeseed\"\n",
    "user= \"oravecz.tamas\"\n",
    "gateway = None\n",
    "password= \"TomiNewPass1212%\"\n",
    "ssl=True\n",
    "\n",
    "tm1 = TM1Service(\n",
    "            base_url=address,\n",
    "            user=user,\n",
    "            password=password,\n",
    "            namespace=namespace,\n",
    "            gateway=gateway,\n",
    "            ssl=ssl)\n",
    "\n",
    "mdx = \" With      Set DefaultProductRows AS      {TM1DRILLDOWNMEMBER({[Products].[BPSP Budget].[PL1]}, ALL, RECURSIVE )}      MEMBER [Periods].[Periods].[ProductName] as             [Products].[BPSP Budget].CurrentMember.Properties('BPSP Budget Description')      MEMBER [Periods].[Periods].[ProductCaption] as             [Products].[BPSP Budget].CurrentMember.Properties('BPSP Budget Element')      MEMBER [Periods].[Periods].[ProductLevel] as             [Products].[BPSP Budget].CurrentMember.Properties('BPSP Budget Product Level - Name')      Set FixColumns AS      {[Periods].[Periods].[ProductName],       [Periods].[Periods].[ProductCaption],       [Periods].[Periods].[ProductLevel]}   SELECT      {Union(FixColumns,{DRILLDOWNMEMBER({[Periods].[Periods].[2021],[Periods].[Periods].[2022],[Periods].[Periods].[2023],[Periods].[Periods].[2024]},{[Periods].[Periods].[2021],[Periods].[Periods].[2022],[Periods].[Periods].[2023],[Periods].[Periods].[2024]})},All)}      PROPERTIES [Periods].[Periods].[Caption] ON COLUMNS ,     {DefaultProductRows}     PROPERTIES [Products].[BPSP Budget].[BPSP Budget Caption] ON ROWS   FROM [Sales Plan by Product]   WHERE     (      [LineItems Sales Plan by Product].[LineItems Sales Plan by Product].[Final Sales Plan],      [Versions].[Versions].[Live],      [Companies].[Companies].[1241],      [Receivers].[Receivers].[BR Brazil],      [Measures Sales Plan by Product].[Measures Sales Plan by Product].[Value]     )\"\n",
    "\n",
    "data = tm1.cells.execute_mdx(mdx)\n",
    "\n",
    "df = build_pandas_dataframe_from_cellset(data, multiindex=False)"
   ],
   "metadata": {
    "collapsed": false,
    "pycharm": {
     "name": "#%%\n"
    }
   }
  },
  {
   "cell_type": "code",
   "execution_count": 20,
   "outputs": [
    {
     "data": {
      "text/plain": "      Versions      Periods Companies Products Receivers  \\\n4073      Live         2021      1241   458010        BR   \n4128      Live         2021      1241   458011        BR   \n4183      Live         2021      1241   458012        BR   \n3798      Live         2021      1241   458070        BR   \n3853      Live         2021      1241   458090        BR   \n...        ...          ...       ...      ...       ...   \n10010     Live  ProductName      1241      P96        BR   \n0         Live  ProductName      1241      PL1        BR   \n9955      Live  ProductName      1241    S0030        BR   \n10285     Live  ProductName      1241    S0150        BR   \n10450     Live  ProductName      1241    S0160        BR   \n\n      LineItems Sales Plan by Product Measures Sales Plan by Product  \\\n4073                 Final Sales Plan                          Value   \n4128                 Final Sales Plan                          Value   \n4183                 Final Sales Plan                          Value   \n3798                 Final Sales Plan                          Value   \n3853                 Final Sales Plan                          Value   \n...                               ...                            ...   \n10010                Final Sales Plan                          Value   \n0                    Final Sales Plan                          Value   \n9955                 Final Sales Plan                          Value   \n10285                Final Sales Plan                          Value   \n10450                Final Sales Plan                          Value   \n\n                              Values  \n4073                      816.581784  \n4128                            None  \n4183                            None  \n3798                            None  \n3853                            None  \n...                              ...  \n10010  CONTINUOUS GLUCOSE MONITORING  \n0               DIVISION DIAGNOSTICS  \n9955   CONTINUOUS GLUCOSE MONITORING  \n10285     HEALTH & DIGITAL SOLUTIONS  \n10450       INSULIN DELIVERY SYSTEMS  \n\n[11000 rows x 8 columns]",
      "text/html": "<div>\n<style scoped>\n    .dataframe tbody tr th:only-of-type {\n        vertical-align: middle;\n    }\n\n    .dataframe tbody tr th {\n        vertical-align: top;\n    }\n\n    .dataframe thead th {\n        text-align: right;\n    }\n</style>\n<table border=\"1\" class=\"dataframe\">\n  <thead>\n    <tr style=\"text-align: right;\">\n      <th></th>\n      <th>Versions</th>\n      <th>Periods</th>\n      <th>Companies</th>\n      <th>Products</th>\n      <th>Receivers</th>\n      <th>LineItems Sales Plan by Product</th>\n      <th>Measures Sales Plan by Product</th>\n      <th>Values</th>\n    </tr>\n  </thead>\n  <tbody>\n    <tr>\n      <th>4073</th>\n      <td>Live</td>\n      <td>2021</td>\n      <td>1241</td>\n      <td>458010</td>\n      <td>BR</td>\n      <td>Final Sales Plan</td>\n      <td>Value</td>\n      <td>816.581784</td>\n    </tr>\n    <tr>\n      <th>4128</th>\n      <td>Live</td>\n      <td>2021</td>\n      <td>1241</td>\n      <td>458011</td>\n      <td>BR</td>\n      <td>Final Sales Plan</td>\n      <td>Value</td>\n      <td>None</td>\n    </tr>\n    <tr>\n      <th>4183</th>\n      <td>Live</td>\n      <td>2021</td>\n      <td>1241</td>\n      <td>458012</td>\n      <td>BR</td>\n      <td>Final Sales Plan</td>\n      <td>Value</td>\n      <td>None</td>\n    </tr>\n    <tr>\n      <th>3798</th>\n      <td>Live</td>\n      <td>2021</td>\n      <td>1241</td>\n      <td>458070</td>\n      <td>BR</td>\n      <td>Final Sales Plan</td>\n      <td>Value</td>\n      <td>None</td>\n    </tr>\n    <tr>\n      <th>3853</th>\n      <td>Live</td>\n      <td>2021</td>\n      <td>1241</td>\n      <td>458090</td>\n      <td>BR</td>\n      <td>Final Sales Plan</td>\n      <td>Value</td>\n      <td>None</td>\n    </tr>\n    <tr>\n      <th>...</th>\n      <td>...</td>\n      <td>...</td>\n      <td>...</td>\n      <td>...</td>\n      <td>...</td>\n      <td>...</td>\n      <td>...</td>\n      <td>...</td>\n    </tr>\n    <tr>\n      <th>10010</th>\n      <td>Live</td>\n      <td>ProductName</td>\n      <td>1241</td>\n      <td>P96</td>\n      <td>BR</td>\n      <td>Final Sales Plan</td>\n      <td>Value</td>\n      <td>CONTINUOUS GLUCOSE MONITORING</td>\n    </tr>\n    <tr>\n      <th>0</th>\n      <td>Live</td>\n      <td>ProductName</td>\n      <td>1241</td>\n      <td>PL1</td>\n      <td>BR</td>\n      <td>Final Sales Plan</td>\n      <td>Value</td>\n      <td>DIVISION DIAGNOSTICS</td>\n    </tr>\n    <tr>\n      <th>9955</th>\n      <td>Live</td>\n      <td>ProductName</td>\n      <td>1241</td>\n      <td>S0030</td>\n      <td>BR</td>\n      <td>Final Sales Plan</td>\n      <td>Value</td>\n      <td>CONTINUOUS GLUCOSE MONITORING</td>\n    </tr>\n    <tr>\n      <th>10285</th>\n      <td>Live</td>\n      <td>ProductName</td>\n      <td>1241</td>\n      <td>S0150</td>\n      <td>BR</td>\n      <td>Final Sales Plan</td>\n      <td>Value</td>\n      <td>HEALTH &amp; DIGITAL SOLUTIONS</td>\n    </tr>\n    <tr>\n      <th>10450</th>\n      <td>Live</td>\n      <td>ProductName</td>\n      <td>1241</td>\n      <td>S0160</td>\n      <td>BR</td>\n      <td>Final Sales Plan</td>\n      <td>Value</td>\n      <td>INSULIN DELIVERY SYSTEMS</td>\n    </tr>\n  </tbody>\n</table>\n<p>11000 rows × 8 columns</p>\n</div>"
     },
     "execution_count": 20,
     "metadata": {},
     "output_type": "execute_result"
    }
   ],
   "source": [
    "df"
   ],
   "metadata": {
    "collapsed": false,
    "pycharm": {
     "name": "#%%\n"
    }
   }
  }
 ],
 "metadata": {
  "kernelspec": {
   "display_name": "Python 3",
   "language": "python",
   "name": "python3"
  },
  "language_info": {
   "codemirror_mode": {
    "name": "ipython",
    "version": 2
   },
   "file_extension": ".py",
   "mimetype": "text/x-python",
   "name": "python",
   "nbconvert_exporter": "python",
   "pygments_lexer": "ipython2",
   "version": "2.7.6"
  }
 },
 "nbformat": 4,
 "nbformat_minor": 0
}