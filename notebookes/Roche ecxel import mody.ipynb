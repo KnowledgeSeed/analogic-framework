{
 "cells": [
  {
   "cell_type": "markdown",
   "metadata": {},
   "source": [
    "# TM1py Get MDX From View"
   ]
  },
  {
   "cell_type": "markdown",
   "metadata": {},
   "source": [
    "Import python packages"
   ]
  },
  {
   "cell_type": "code",
   "execution_count": 1637,
   "metadata": {},
   "outputs": [],
   "source": [
    "import xlsxwriter\n",
    "import numpy as np\n",
    "import pandas as pd\n",
    "from TM1py import TM1Service\n",
    "from TM1py.Objects import Cube, Dimension, Hierarchy, Element\n",
    "from datetime import date, timedelta\n",
    "import datetime\n",
    "pd.set_option('display.float_format', lambda x: '%.3f' % x)\n",
    "from TM1py.Utils.Utils import build_pandas_dataframe_from_cellset"
   ]
  },
  {
   "cell_type": "markdown",
   "metadata": {},
   "source": [
    "# TM1py connection"
   ]
  },
  {
   "cell_type": "code",
   "execution_count": 1638,
   "metadata": {},
   "outputs": [],
   "source": [
    "address=\"localhost\"\n",
    "namespace = \"knowledgeseed\"\n",
    "port=5280\n",
    "user= \"tm1py\"\n",
    "gateway = None\n",
    "password= \"2bffS8hcbJqa7xdA\"\n",
    "ssl=False\n",
    "\n",
    "tm1 = TM1Service(\n",
    "            address=address,\n",
    "            port=port,\n",
    "            user=user,\n",
    "            password=password,\n",
    "            namespace=namespace,\n",
    "            gateway=gateway,\n",
    "            ssl=ssl)"
   ]
  },
  {
   "cell_type": "code",
   "execution_count": 1639,
   "metadata": {},
   "outputs": [],
   "source": [
    "#nv = tm1.cubes.views.get_native_view('Deal Email Report' , 'Export_template', private=False)"
   ]
  },
  {
   "cell_type": "code",
   "execution_count": 1640,
   "metadata": {},
   "outputs": [],
   "source": [
    "#mdx = nv.MDX"
   ]
  },
  {
   "cell_type": "code",
   "execution_count": 1641,
   "metadata": {},
   "outputs": [],
   "source": [
    "mdx = 'SELECT NON EMPTY TM1SubsetToSet([Period], \"Years\") ON COLUMNS, NON EMPTY TM1SubsetToSet([Deal Email Report Measure], \"Default\") ON ROWS FROM [Deal Email Report] WHERE ([Deal].[Deal_0001])'"
   ]
  },
  {
   "cell_type": "code",
   "execution_count": 1642,
   "metadata": {},
   "outputs": [],
   "source": [
    "data = tm1.cubes.cells.execute_mdx(mdx)"
   ]
  },
  {
   "cell_type": "code",
   "execution_count": 1643,
   "metadata": {},
   "outputs": [],
   "source": [
    "df = build_pandas_dataframe_from_cellset(data, multiindex=False)"
   ]
  },
  {
   "cell_type": "code",
   "execution_count": 1644,
   "metadata": {},
   "outputs": [
    {
     "data": {
      "text/html": [
       "<div>\n",
       "<style scoped>\n",
       "    .dataframe tbody tr th:only-of-type {\n",
       "        vertical-align: middle;\n",
       "    }\n",
       "\n",
       "    .dataframe tbody tr th {\n",
       "        vertical-align: top;\n",
       "    }\n",
       "\n",
       "    .dataframe thead th {\n",
       "        text-align: right;\n",
       "    }\n",
       "</style>\n",
       "<table border=\"1\" class=\"dataframe\">\n",
       "  <thead>\n",
       "    <tr style=\"text-align: right;\">\n",
       "      <th></th>\n",
       "      <th>Deal</th>\n",
       "      <th>Period</th>\n",
       "      <th>Deal Email Report Measure</th>\n",
       "      <th>Values</th>\n",
       "    </tr>\n",
       "  </thead>\n",
       "  <tbody>\n",
       "    <tr>\n",
       "      <th>15</th>\n",
       "      <td>Deal_0001</td>\n",
       "      <td>2021</td>\n",
       "      <td>Cost - reagent</td>\n",
       "      <td>100920171.765</td>\n",
       "    </tr>\n",
       "    <tr>\n",
       "      <th>20</th>\n",
       "      <td>Deal_0001</td>\n",
       "      <td>2021</td>\n",
       "      <td>Cost Of Goods Sold ( w/o VAT )</td>\n",
       "      <td>100920171.765</td>\n",
       "    </tr>\n",
       "    <tr>\n",
       "      <th>25</th>\n",
       "      <td>Deal_0001</td>\n",
       "      <td>2021</td>\n",
       "      <td>Gross profit</td>\n",
       "      <td>54029059.311</td>\n",
       "    </tr>\n",
       "    <tr>\n",
       "      <th>30</th>\n",
       "      <td>Deal_0001</td>\n",
       "      <td>2021</td>\n",
       "      <td>Gross profit %</td>\n",
       "      <td>0.349</td>\n",
       "    </tr>\n",
       "    <tr>\n",
       "      <th>10</th>\n",
       "      <td>Deal_0001</td>\n",
       "      <td>2021</td>\n",
       "      <td>Product Sales ( w/o VAT )</td>\n",
       "      <td>154949231.076</td>\n",
       "    </tr>\n",
       "    <tr>\n",
       "      <th>5</th>\n",
       "      <td>Deal_0001</td>\n",
       "      <td>2021</td>\n",
       "      <td>Sales - reagent ( w/o VAT )</td>\n",
       "      <td>154949231.076</td>\n",
       "    </tr>\n",
       "    <tr>\n",
       "      <th>0</th>\n",
       "      <td>Deal_0001</td>\n",
       "      <td>2021</td>\n",
       "      <td>Sales Growth rate%</td>\n",
       "      <td>nan</td>\n",
       "    </tr>\n",
       "    <tr>\n",
       "      <th>16</th>\n",
       "      <td>Deal_0001</td>\n",
       "      <td>2022</td>\n",
       "      <td>Cost - reagent</td>\n",
       "      <td>112021390.659</td>\n",
       "    </tr>\n",
       "    <tr>\n",
       "      <th>21</th>\n",
       "      <td>Deal_0001</td>\n",
       "      <td>2022</td>\n",
       "      <td>Cost Of Goods Sold ( w/o VAT )</td>\n",
       "      <td>112021390.659</td>\n",
       "    </tr>\n",
       "    <tr>\n",
       "      <th>26</th>\n",
       "      <td>Deal_0001</td>\n",
       "      <td>2022</td>\n",
       "      <td>Gross profit</td>\n",
       "      <td>59972255.835</td>\n",
       "    </tr>\n",
       "    <tr>\n",
       "      <th>31</th>\n",
       "      <td>Deal_0001</td>\n",
       "      <td>2022</td>\n",
       "      <td>Gross profit %</td>\n",
       "      <td>0.349</td>\n",
       "    </tr>\n",
       "    <tr>\n",
       "      <th>11</th>\n",
       "      <td>Deal_0001</td>\n",
       "      <td>2022</td>\n",
       "      <td>Product Sales ( w/o VAT )</td>\n",
       "      <td>171993646.494</td>\n",
       "    </tr>\n",
       "    <tr>\n",
       "      <th>6</th>\n",
       "      <td>Deal_0001</td>\n",
       "      <td>2022</td>\n",
       "      <td>Sales - reagent ( w/o VAT )</td>\n",
       "      <td>171993646.494</td>\n",
       "    </tr>\n",
       "    <tr>\n",
       "      <th>1</th>\n",
       "      <td>Deal_0001</td>\n",
       "      <td>2022</td>\n",
       "      <td>Sales Growth rate%</td>\n",
       "      <td>0.110</td>\n",
       "    </tr>\n",
       "    <tr>\n",
       "      <th>17</th>\n",
       "      <td>Deal_0001</td>\n",
       "      <td>2023</td>\n",
       "      <td>Cost - reagent</td>\n",
       "      <td>120983101.912</td>\n",
       "    </tr>\n",
       "    <tr>\n",
       "      <th>22</th>\n",
       "      <td>Deal_0001</td>\n",
       "      <td>2023</td>\n",
       "      <td>Cost Of Goods Sold ( w/o VAT )</td>\n",
       "      <td>120983101.912</td>\n",
       "    </tr>\n",
       "    <tr>\n",
       "      <th>27</th>\n",
       "      <td>Deal_0001</td>\n",
       "      <td>2023</td>\n",
       "      <td>Gross profit</td>\n",
       "      <td>64770036.302</td>\n",
       "    </tr>\n",
       "    <tr>\n",
       "      <th>32</th>\n",
       "      <td>Deal_0001</td>\n",
       "      <td>2023</td>\n",
       "      <td>Gross profit %</td>\n",
       "      <td>0.349</td>\n",
       "    </tr>\n",
       "    <tr>\n",
       "      <th>12</th>\n",
       "      <td>Deal_0001</td>\n",
       "      <td>2023</td>\n",
       "      <td>Product Sales ( w/o VAT )</td>\n",
       "      <td>185753138.214</td>\n",
       "    </tr>\n",
       "    <tr>\n",
       "      <th>7</th>\n",
       "      <td>Deal_0001</td>\n",
       "      <td>2023</td>\n",
       "      <td>Sales - reagent ( w/o VAT )</td>\n",
       "      <td>185753138.214</td>\n",
       "    </tr>\n",
       "    <tr>\n",
       "      <th>2</th>\n",
       "      <td>Deal_0001</td>\n",
       "      <td>2023</td>\n",
       "      <td>Sales Growth rate%</td>\n",
       "      <td>0.080</td>\n",
       "    </tr>\n",
       "    <tr>\n",
       "      <th>18</th>\n",
       "      <td>Deal_0001</td>\n",
       "      <td>2024</td>\n",
       "      <td>Cost - reagent</td>\n",
       "      <td>130661750.064</td>\n",
       "    </tr>\n",
       "    <tr>\n",
       "      <th>23</th>\n",
       "      <td>Deal_0001</td>\n",
       "      <td>2024</td>\n",
       "      <td>Cost Of Goods Sold ( w/o VAT )</td>\n",
       "      <td>130661750.064</td>\n",
       "    </tr>\n",
       "    <tr>\n",
       "      <th>28</th>\n",
       "      <td>Deal_0001</td>\n",
       "      <td>2024</td>\n",
       "      <td>Gross profit</td>\n",
       "      <td>69951639.207</td>\n",
       "    </tr>\n",
       "    <tr>\n",
       "      <th>33</th>\n",
       "      <td>Deal_0001</td>\n",
       "      <td>2024</td>\n",
       "      <td>Gross profit %</td>\n",
       "      <td>0.349</td>\n",
       "    </tr>\n",
       "    <tr>\n",
       "      <th>13</th>\n",
       "      <td>Deal_0001</td>\n",
       "      <td>2024</td>\n",
       "      <td>Product Sales ( w/o VAT )</td>\n",
       "      <td>200613389.271</td>\n",
       "    </tr>\n",
       "    <tr>\n",
       "      <th>8</th>\n",
       "      <td>Deal_0001</td>\n",
       "      <td>2024</td>\n",
       "      <td>Sales - reagent ( w/o VAT )</td>\n",
       "      <td>200613389.271</td>\n",
       "    </tr>\n",
       "    <tr>\n",
       "      <th>3</th>\n",
       "      <td>Deal_0001</td>\n",
       "      <td>2024</td>\n",
       "      <td>Sales Growth rate%</td>\n",
       "      <td>0.080</td>\n",
       "    </tr>\n",
       "    <tr>\n",
       "      <th>19</th>\n",
       "      <td>Deal_0001</td>\n",
       "      <td>2025</td>\n",
       "      <td>Cost - reagent</td>\n",
       "      <td>141114690.070</td>\n",
       "    </tr>\n",
       "    <tr>\n",
       "      <th>24</th>\n",
       "      <td>Deal_0001</td>\n",
       "      <td>2025</td>\n",
       "      <td>Cost Of Goods Sold ( w/o VAT )</td>\n",
       "      <td>141114690.070</td>\n",
       "    </tr>\n",
       "    <tr>\n",
       "      <th>29</th>\n",
       "      <td>Deal_0001</td>\n",
       "      <td>2025</td>\n",
       "      <td>Gross profit</td>\n",
       "      <td>75547770.342</td>\n",
       "    </tr>\n",
       "    <tr>\n",
       "      <th>34</th>\n",
       "      <td>Deal_0001</td>\n",
       "      <td>2025</td>\n",
       "      <td>Gross profit %</td>\n",
       "      <td>0.349</td>\n",
       "    </tr>\n",
       "    <tr>\n",
       "      <th>14</th>\n",
       "      <td>Deal_0001</td>\n",
       "      <td>2025</td>\n",
       "      <td>Product Sales ( w/o VAT )</td>\n",
       "      <td>216662460.412</td>\n",
       "    </tr>\n",
       "    <tr>\n",
       "      <th>9</th>\n",
       "      <td>Deal_0001</td>\n",
       "      <td>2025</td>\n",
       "      <td>Sales - reagent ( w/o VAT )</td>\n",
       "      <td>216662460.412</td>\n",
       "    </tr>\n",
       "    <tr>\n",
       "      <th>4</th>\n",
       "      <td>Deal_0001</td>\n",
       "      <td>2025</td>\n",
       "      <td>Sales Growth rate%</td>\n",
       "      <td>0.080</td>\n",
       "    </tr>\n",
       "  </tbody>\n",
       "</table>\n",
       "</div>"
      ],
      "text/plain": [
       "         Deal Period       Deal Email Report Measure        Values\n",
       "15  Deal_0001   2021                  Cost - reagent 100920171.765\n",
       "20  Deal_0001   2021  Cost Of Goods Sold ( w/o VAT ) 100920171.765\n",
       "25  Deal_0001   2021                    Gross profit  54029059.311\n",
       "30  Deal_0001   2021                  Gross profit %         0.349\n",
       "10  Deal_0001   2021       Product Sales ( w/o VAT ) 154949231.076\n",
       "5   Deal_0001   2021     Sales - reagent ( w/o VAT ) 154949231.076\n",
       "0   Deal_0001   2021              Sales Growth rate%           nan\n",
       "16  Deal_0001   2022                  Cost - reagent 112021390.659\n",
       "21  Deal_0001   2022  Cost Of Goods Sold ( w/o VAT ) 112021390.659\n",
       "26  Deal_0001   2022                    Gross profit  59972255.835\n",
       "31  Deal_0001   2022                  Gross profit %         0.349\n",
       "11  Deal_0001   2022       Product Sales ( w/o VAT ) 171993646.494\n",
       "6   Deal_0001   2022     Sales - reagent ( w/o VAT ) 171993646.494\n",
       "1   Deal_0001   2022              Sales Growth rate%         0.110\n",
       "17  Deal_0001   2023                  Cost - reagent 120983101.912\n",
       "22  Deal_0001   2023  Cost Of Goods Sold ( w/o VAT ) 120983101.912\n",
       "27  Deal_0001   2023                    Gross profit  64770036.302\n",
       "32  Deal_0001   2023                  Gross profit %         0.349\n",
       "12  Deal_0001   2023       Product Sales ( w/o VAT ) 185753138.214\n",
       "7   Deal_0001   2023     Sales - reagent ( w/o VAT ) 185753138.214\n",
       "2   Deal_0001   2023              Sales Growth rate%         0.080\n",
       "18  Deal_0001   2024                  Cost - reagent 130661750.064\n",
       "23  Deal_0001   2024  Cost Of Goods Sold ( w/o VAT ) 130661750.064\n",
       "28  Deal_0001   2024                    Gross profit  69951639.207\n",
       "33  Deal_0001   2024                  Gross profit %         0.349\n",
       "13  Deal_0001   2024       Product Sales ( w/o VAT ) 200613389.271\n",
       "8   Deal_0001   2024     Sales - reagent ( w/o VAT ) 200613389.271\n",
       "3   Deal_0001   2024              Sales Growth rate%         0.080\n",
       "19  Deal_0001   2025                  Cost - reagent 141114690.070\n",
       "24  Deal_0001   2025  Cost Of Goods Sold ( w/o VAT ) 141114690.070\n",
       "29  Deal_0001   2025                    Gross profit  75547770.342\n",
       "34  Deal_0001   2025                  Gross profit %         0.349\n",
       "14  Deal_0001   2025       Product Sales ( w/o VAT ) 216662460.412\n",
       "9   Deal_0001   2025     Sales - reagent ( w/o VAT ) 216662460.412\n",
       "4   Deal_0001   2025              Sales Growth rate%         0.080"
      ]
     },
     "execution_count": 1644,
     "metadata": {},
     "output_type": "execute_result"
    }
   ],
   "source": [
    "df"
   ]
  },
  {
   "cell_type": "code",
   "execution_count": 1645,
   "metadata": {},
   "outputs": [],
   "source": [
    "del df['Deal']"
   ]
  },
  {
   "cell_type": "code",
   "execution_count": 1646,
   "metadata": {},
   "outputs": [],
   "source": [
    "pivot = df.pivot_table('Values', index='Deal Email Report Measure', columns='Period')"
   ]
  },
  {
   "cell_type": "code",
   "execution_count": 1647,
   "metadata": {},
   "outputs": [
    {
     "data": {
      "text/html": [
       "<div>\n",
       "<style scoped>\n",
       "    .dataframe tbody tr th:only-of-type {\n",
       "        vertical-align: middle;\n",
       "    }\n",
       "\n",
       "    .dataframe tbody tr th {\n",
       "        vertical-align: top;\n",
       "    }\n",
       "\n",
       "    .dataframe thead th {\n",
       "        text-align: right;\n",
       "    }\n",
       "</style>\n",
       "<table border=\"1\" class=\"dataframe\">\n",
       "  <thead>\n",
       "    <tr style=\"text-align: right;\">\n",
       "      <th>Period</th>\n",
       "      <th>2021</th>\n",
       "      <th>2022</th>\n",
       "      <th>2023</th>\n",
       "      <th>2024</th>\n",
       "      <th>2025</th>\n",
       "    </tr>\n",
       "    <tr>\n",
       "      <th>Deal Email Report Measure</th>\n",
       "      <th></th>\n",
       "      <th></th>\n",
       "      <th></th>\n",
       "      <th></th>\n",
       "      <th></th>\n",
       "    </tr>\n",
       "  </thead>\n",
       "  <tbody>\n",
       "    <tr>\n",
       "      <th>Cost - reagent</th>\n",
       "      <td>100920171.765</td>\n",
       "      <td>112021390.659</td>\n",
       "      <td>120983101.912</td>\n",
       "      <td>130661750.064</td>\n",
       "      <td>141114690.070</td>\n",
       "    </tr>\n",
       "    <tr>\n",
       "      <th>Cost Of Goods Sold ( w/o VAT )</th>\n",
       "      <td>100920171.765</td>\n",
       "      <td>112021390.659</td>\n",
       "      <td>120983101.912</td>\n",
       "      <td>130661750.064</td>\n",
       "      <td>141114690.070</td>\n",
       "    </tr>\n",
       "    <tr>\n",
       "      <th>Gross profit</th>\n",
       "      <td>54029059.311</td>\n",
       "      <td>59972255.835</td>\n",
       "      <td>64770036.302</td>\n",
       "      <td>69951639.207</td>\n",
       "      <td>75547770.342</td>\n",
       "    </tr>\n",
       "    <tr>\n",
       "      <th>Gross profit %</th>\n",
       "      <td>0.349</td>\n",
       "      <td>0.349</td>\n",
       "      <td>0.349</td>\n",
       "      <td>0.349</td>\n",
       "      <td>0.349</td>\n",
       "    </tr>\n",
       "    <tr>\n",
       "      <th>Product Sales ( w/o VAT )</th>\n",
       "      <td>154949231.076</td>\n",
       "      <td>171993646.494</td>\n",
       "      <td>185753138.214</td>\n",
       "      <td>200613389.271</td>\n",
       "      <td>216662460.412</td>\n",
       "    </tr>\n",
       "    <tr>\n",
       "      <th>Sales - reagent ( w/o VAT )</th>\n",
       "      <td>154949231.076</td>\n",
       "      <td>171993646.494</td>\n",
       "      <td>185753138.214</td>\n",
       "      <td>200613389.271</td>\n",
       "      <td>216662460.412</td>\n",
       "    </tr>\n",
       "    <tr>\n",
       "      <th>Sales Growth rate%</th>\n",
       "      <td>nan</td>\n",
       "      <td>0.110</td>\n",
       "      <td>0.080</td>\n",
       "      <td>0.080</td>\n",
       "      <td>0.080</td>\n",
       "    </tr>\n",
       "  </tbody>\n",
       "</table>\n",
       "</div>"
      ],
      "text/plain": [
       "Period                                  2021          2022          2023  \\\n",
       "Deal Email Report Measure                                                  \n",
       "Cost - reagent                 100920171.765 112021390.659 120983101.912   \n",
       "Cost Of Goods Sold ( w/o VAT ) 100920171.765 112021390.659 120983101.912   \n",
       "Gross profit                    54029059.311  59972255.835  64770036.302   \n",
       "Gross profit %                         0.349         0.349         0.349   \n",
       "Product Sales ( w/o VAT )      154949231.076 171993646.494 185753138.214   \n",
       "Sales - reagent ( w/o VAT )    154949231.076 171993646.494 185753138.214   \n",
       "Sales Growth rate%                       nan         0.110         0.080   \n",
       "\n",
       "Period                                  2024          2025  \n",
       "Deal Email Report Measure                                   \n",
       "Cost - reagent                 130661750.064 141114690.070  \n",
       "Cost Of Goods Sold ( w/o VAT ) 130661750.064 141114690.070  \n",
       "Gross profit                    69951639.207  75547770.342  \n",
       "Gross profit %                         0.349         0.349  \n",
       "Product Sales ( w/o VAT )      200613389.271 216662460.412  \n",
       "Sales - reagent ( w/o VAT )    200613389.271 216662460.412  \n",
       "Sales Growth rate%                     0.080         0.080  "
      ]
     },
     "execution_count": 1647,
     "metadata": {},
     "output_type": "execute_result"
    }
   ],
   "source": [
    "pivot"
   ]
  },
  {
   "cell_type": "code",
   "execution_count": 1648,
   "metadata": {},
   "outputs": [
    {
     "data": {
      "text/plain": [
       "5"
      ]
     },
     "execution_count": 1648,
     "metadata": {},
     "output_type": "execute_result"
    }
   ],
   "source": [
    "#egy sor hossza\n",
    "oszlop = pivot.iloc[[0], :]\n",
    "oszlop = oszlop.values.tolist()\n",
    "oszlop = oszlop[0]\n",
    "oszlop = len(oszlop)\n",
    "oszlop"
   ]
  },
  {
   "cell_type": "code",
   "execution_count": 1649,
   "metadata": {},
   "outputs": [
    {
     "data": {
      "text/plain": [
       "7"
      ]
     },
     "execution_count": 1649,
     "metadata": {},
     "output_type": "execute_result"
    }
   ],
   "source": [
    "#egy oszlop hossza\n",
    "sor = pivot.iloc[:, [0]]\n",
    "sor = sor.values.tolist()\n",
    "sor = len(sor)\n",
    "sor"
   ]
  },
  {
   "cell_type": "markdown",
   "metadata": {},
   "source": [
    "# Excelbe létrehozása"
   ]
  },
  {
   "cell_type": "code",
   "execution_count": 1650,
   "metadata": {},
   "outputs": [],
   "source": [
    "workbook = xlsxwriter.Workbook('Roche.xlsx')\n",
    "worksheet = workbook.add_worksheet()"
   ]
  },
  {
   "cell_type": "code",
   "execution_count": 1651,
   "metadata": {},
   "outputs": [],
   "source": [
    "#skinek\n",
    "\n",
    "cim = workbook.add_format({'bold': True})\n",
    "cim.set_font_name('Imago')\n",
    "cim.set_font_size(12)\n",
    "cim.set_align('center')\n",
    "cim.set_bg_color('#A9D08E')\n",
    "\n",
    "cimkicsi = workbook.add_format({'bold': True})\n",
    "cimkicsi.set_font_name('Imago')\n",
    "cimkicsi.set_font_size(8)\n",
    "cimkicsi.set_align('center')\n",
    "cimkicsi.set_bg_color('#A9D08E')\n",
    "\n",
    "cimkek = workbook.add_format({'bold': True})\n",
    "cimkek.set_font_name('Imago')\n",
    "cimkek.set_font_size(8)\n",
    "cimkek.set_align('center')\n",
    "cimkek.set_bg_color('#8DB4E2')\n",
    "\n",
    "bold = workbook.add_format({'bold': True})\n",
    "\n",
    "money = workbook.add_format({'num_format': '_ * # ##0_ ;_ * -# ##0_ ;_ * \"-\"??_ ;_ @_ '})"
   ]
  },
  {
   "cell_type": "code",
   "execution_count": 1652,
   "metadata": {},
   "outputs": [
    {
     "data": {
      "text/plain": [
       "0"
      ]
     },
     "execution_count": 1652,
     "metadata": {},
     "output_type": "execute_result"
    }
   ],
   "source": [
    "worksheet.write('B2','Distributor Channel P&L',cim)\n",
    "worksheet.write('B3','总渠道利润',cim)\n",
    "worksheet.write('B4','Hospital - quantity ',cim)\n",
    "worksheet.write('B6','Sales Growth rate% ')\n",
    "worksheet.write('B8','Items ',cimkek)\n",
    "worksheet.write('B9','Sales - reagent ( w/o VAT )',bold)\n",
    "worksheet.write('B10','Product Sales ( w/o VAT ) ',bold)"
   ]
  },
  {
   "cell_type": "code",
   "execution_count": 1653,
   "metadata": {},
   "outputs": [],
   "source": [
    "arr = np.array(['Year1','Year2','Year3','Year4','Year5','Year6','Year7'])\n",
    "arr = arr[0:oszlop]\n",
    "szam=0\n",
    "for x in arr:\n",
    "    worksheet.write(4, 3+szam, x,cimkicsi)\n",
    "    szam = szam+1"
   ]
  },
  {
   "cell_type": "code",
   "execution_count": 1654,
   "metadata": {},
   "outputs": [],
   "source": [
    "szam=0\n",
    "for x in arr:\n",
    "    worksheet.write(7, 3+szam, x,cimkek)\n",
    "    szam = szam+1"
   ]
  },
  {
   "cell_type": "markdown",
   "metadata": {},
   "source": [
    "# Szászalékok betöltése"
   ]
  },
  {
   "cell_type": "code",
   "execution_count": 1655,
   "metadata": {},
   "outputs": [
    {
     "data": {
      "text/plain": [
       "[nan, 0.11, 0.08, 0.08, 0.08]"
      ]
     },
     "execution_count": 1655,
     "metadata": {},
     "output_type": "execute_result"
    }
   ],
   "source": [
    "rate = pivot.loc[[\"Sales Growth rate%\"]]\n",
    "rate = rate.values.tolist()\n",
    "rate = rate[0]\n",
    "rate"
   ]
  },
  {
   "cell_type": "code",
   "execution_count": 1656,
   "metadata": {},
   "outputs": [
    {
     "data": {
      "text/plain": [
       "array([0.11, 0.08, 0.08, 0.08])"
      ]
     },
     "execution_count": 1656,
     "metadata": {},
     "output_type": "execute_result"
    }
   ],
   "source": [
    "rate = np.array(rate)\n",
    "new_rate = np.delete(rate, 0)\n",
    "new_rate"
   ]
  },
  {
   "cell_type": "code",
   "execution_count": 1657,
   "metadata": {},
   "outputs": [],
   "source": [
    "szamegy=0\n",
    "for x in new_rate:\n",
    "    worksheet.write(5, 4+szamegy, x)\n",
    "    szamegy = szamegy+1"
   ]
  },
  {
   "cell_type": "markdown",
   "metadata": {},
   "source": [
    "A kiinduló adat"
   ]
  },
  {
   "cell_type": "code",
   "execution_count": 1658,
   "metadata": {},
   "outputs": [
    {
     "data": {
      "text/plain": [
       "154949231.076"
      ]
     },
     "execution_count": 1658,
     "metadata": {},
     "output_type": "execute_result"
    }
   ],
   "source": [
    "data = pivot.loc[[\"Sales - reagent ( w/o VAT )\"]]\n",
    "data = data.values.tolist()\n",
    "data = data[0]\n",
    "data = data[0]\n",
    "data"
   ]
  },
  {
   "cell_type": "code",
   "execution_count": 1659,
   "metadata": {},
   "outputs": [
    {
     "data": {
      "text/plain": [
       "0"
      ]
     },
     "execution_count": 1659,
     "metadata": {},
     "output_type": "execute_result"
    }
   ],
   "source": [
    "worksheet.write('D9',data)"
   ]
  },
  {
   "cell_type": "markdown",
   "metadata": {},
   "source": [
    "Sales - reagent ( w/o VAT )"
   ]
  },
  {
   "cell_type": "code",
   "execution_count": 1660,
   "metadata": {},
   "outputs": [],
   "source": [
    "strings = [\"=D9*(1+E$6)\", \"=E9*(1+F$6)\", \"=F9*(1+G6)\",\"=G9*(1+H6)\"]"
   ]
  },
  {
   "cell_type": "code",
   "execution_count": 1661,
   "metadata": {},
   "outputs": [],
   "source": [
    "#0-tol számol\n",
    "row=8\n",
    "szamlalo=0\n",
    "\n",
    "for value in strings:\n",
    "    worksheet.write(row, 4+szamlalo, value,money)\n",
    "    szamlalo = szamlalo+1"
   ]
  },
  {
   "cell_type": "markdown",
   "metadata": {},
   "source": [
    "Product Sales ( w/o VAT ) "
   ]
  },
  {
   "cell_type": "code",
   "execution_count": 1662,
   "metadata": {},
   "outputs": [],
   "source": [
    "strings = [\"=D9\", \"=E9\", \"=F9\",\"=G9\",\"=H9\"]"
   ]
  },
  {
   "cell_type": "code",
   "execution_count": 1663,
   "metadata": {},
   "outputs": [],
   "source": [
    "#0-tol számol\n",
    "row=9\n",
    "szamlalo=0\n",
    "\n",
    "for value in strings:\n",
    "    worksheet.write(row, 3+szamlalo, value,money)\n",
    "    szamlalo = szamlalo+1"
   ]
  },
  {
   "cell_type": "markdown",
   "metadata": {},
   "source": [
    "Cost - reagent"
   ]
  },
  {
   "cell_type": "code",
   "execution_count": 1664,
   "metadata": {},
   "outputs": [
    {
     "data": {
      "text/plain": [
       "0"
      ]
     },
     "execution_count": 1664,
     "metadata": {},
     "output_type": "execute_result"
    }
   ],
   "source": [
    "worksheet.write('B12',\"Cost - reagent\")\n",
    "worksheet.write('C12',\"65,13112137%\")"
   ]
  },
  {
   "cell_type": "code",
   "execution_count": null,
   "metadata": {},
   "outputs": [],
   "source": []
  },
  {
   "cell_type": "code",
   "execution_count": 1665,
   "metadata": {},
   "outputs": [],
   "source": [
    "strings = [\"=D9*$C$12\", \"=E9*$C$12\", \"=F9*$C$12\",\"=G9*$C$12\",\"=H9*$C$12\"]"
   ]
  },
  {
   "cell_type": "code",
   "execution_count": 1666,
   "metadata": {},
   "outputs": [],
   "source": [
    "#0-tol számol\n",
    "row=11\n",
    "szamlalo=0\n",
    "\n",
    "for value in strings:\n",
    "    worksheet.write(row, 3+szamlalo, value,money)\n",
    "    szamlalo = szamlalo+1"
   ]
  },
  {
   "cell_type": "markdown",
   "metadata": {},
   "source": [
    "Cost Of Goods Sold ( w/o VAT )"
   ]
  },
  {
   "cell_type": "code",
   "execution_count": 1667,
   "metadata": {},
   "outputs": [
    {
     "data": {
      "text/plain": [
       "0"
      ]
     },
     "execution_count": 1667,
     "metadata": {},
     "output_type": "execute_result"
    }
   ],
   "source": [
    "worksheet.write('B13',\"Cost Of Goods Sold ( w/o VAT )\",bold)"
   ]
  },
  {
   "cell_type": "code",
   "execution_count": 1668,
   "metadata": {},
   "outputs": [],
   "source": [
    "strings = [\"=D12\", \"=E12\", \"=F12\",\"=G12\",\"=H12\"]"
   ]
  },
  {
   "cell_type": "code",
   "execution_count": 1669,
   "metadata": {},
   "outputs": [],
   "source": [
    "#0-tol számol\n",
    "row=12\n",
    "szamlalo=0\n",
    "\n",
    "for value in strings:\n",
    "    worksheet.write(row, 3+szamlalo, value,money)\n",
    "    szamlalo = szamlalo+1"
   ]
  },
  {
   "cell_type": "markdown",
   "metadata": {},
   "source": [
    "Gross profit "
   ]
  },
  {
   "cell_type": "code",
   "execution_count": 1670,
   "metadata": {},
   "outputs": [
    {
     "data": {
      "text/plain": [
       "0"
      ]
     },
     "execution_count": 1670,
     "metadata": {},
     "output_type": "execute_result"
    }
   ],
   "source": [
    "worksheet.write('B15',\"Gross profit \",bold)"
   ]
  },
  {
   "cell_type": "code",
   "execution_count": 1671,
   "metadata": {},
   "outputs": [],
   "source": [
    "strings = [\"=D10-D13\", \"=E10-E13\", \"=F10-F13\",\"=G10-G13\",\"=H10-H13\"]"
   ]
  },
  {
   "cell_type": "code",
   "execution_count": 1672,
   "metadata": {},
   "outputs": [],
   "source": [
    "#0-tol számol\n",
    "row=14\n",
    "szamlalo=0\n",
    "\n",
    "for value in strings:\n",
    "    worksheet.write(row, 3+szamlalo, value,money)\n",
    "    szamlalo = szamlalo+1"
   ]
  },
  {
   "cell_type": "markdown",
   "metadata": {},
   "source": [
    "Gross profit %"
   ]
  },
  {
   "cell_type": "code",
   "execution_count": 1673,
   "metadata": {},
   "outputs": [
    {
     "data": {
      "text/plain": [
       "0"
      ]
     },
     "execution_count": 1673,
     "metadata": {},
     "output_type": "execute_result"
    }
   ],
   "source": [
    "worksheet.write('B16',\"Gross profit %\")"
   ]
  },
  {
   "cell_type": "code",
   "execution_count": 1674,
   "metadata": {},
   "outputs": [],
   "source": [
    "strings = [\"=D15/D10\", \"=E15/E10\", \"=F15/F10\",\"=G15/G10\",\"=H15/H10\"]"
   ]
  },
  {
   "cell_type": "code",
   "execution_count": 1675,
   "metadata": {},
   "outputs": [],
   "source": [
    "format2 = workbook.add_format({'num_format': '0%'})"
   ]
  },
  {
   "cell_type": "code",
   "execution_count": 1676,
   "metadata": {},
   "outputs": [],
   "source": [
    "#0-tol számol\n",
    "row=15\n",
    "szamlalo=0\n",
    "\n",
    "for value in strings:\n",
    "    worksheet.write(row, 3+szamlalo, value,format2)\n",
    "    szamlalo = szamlalo+1"
   ]
  },
  {
   "cell_type": "code",
   "execution_count": null,
   "metadata": {},
   "outputs": [],
   "source": []
  },
  {
   "cell_type": "markdown",
   "metadata": {},
   "source": [
    "SUM"
   ]
  },
  {
   "cell_type": "code",
   "execution_count": 1677,
   "metadata": {},
   "outputs": [
    {
     "data": {
      "text/plain": [
       "0"
      ]
     },
     "execution_count": 1677,
     "metadata": {},
     "output_type": "execute_result"
    }
   ],
   "source": [
    "worksheet.write('I6',\"Legal\",bold)\n",
    "worksheet.write('I8',\"Total\",cimkek)"
   ]
  },
  {
   "cell_type": "code",
   "execution_count": 1678,
   "metadata": {},
   "outputs": [
    {
     "data": {
      "text/plain": [
       "0"
      ]
     },
     "execution_count": 1678,
     "metadata": {},
     "output_type": "execute_result"
    }
   ],
   "source": [
    "worksheet.write('I9',\"=SUM(D9:H9)\",money)\n",
    "worksheet.write('I10',\"=I9\",money)\n",
    "worksheet.write('I12',\"=SUM(D12:H12)\",money)\n",
    "worksheet.write('I13',\"=I12\",money)\n",
    "worksheet.write('I15',\"=I10-I13\",money)\n",
    "worksheet.write('I16',\"=I15/I10\",format2)"
   ]
  },
  {
   "cell_type": "code",
   "execution_count": null,
   "metadata": {},
   "outputs": [],
   "source": []
  },
  {
   "cell_type": "code",
   "execution_count": null,
   "metadata": {},
   "outputs": [],
   "source": []
  },
  {
   "cell_type": "code",
   "execution_count": null,
   "metadata": {},
   "outputs": [],
   "source": []
  },
  {
   "cell_type": "code",
   "execution_count": null,
   "metadata": {},
   "outputs": [],
   "source": []
  },
  {
   "cell_type": "code",
   "execution_count": null,
   "metadata": {},
   "outputs": [],
   "source": []
  },
  {
   "cell_type": "code",
   "execution_count": null,
   "metadata": {},
   "outputs": [],
   "source": []
  },
  {
   "cell_type": "code",
   "execution_count": 1679,
   "metadata": {},
   "outputs": [],
   "source": [
    "workbook.close()"
   ]
  },
  {
   "cell_type": "code",
   "execution_count": null,
   "metadata": {},
   "outputs": [],
   "source": []
  },
  {
   "cell_type": "code",
   "execution_count": null,
   "metadata": {},
   "outputs": [],
   "source": []
  },
  {
   "cell_type": "code",
   "execution_count": null,
   "metadata": {},
   "outputs": [],
   "source": []
  },
  {
   "cell_type": "code",
   "execution_count": null,
   "metadata": {},
   "outputs": [],
   "source": []
  }
 ],
 "metadata": {
  "kernelspec": {
   "display_name": "Python 3",
   "language": "python",
   "name": "python3"
  },
  "language_info": {
   "codemirror_mode": {
    "name": "ipython",
    "version": 3
   },
   "file_extension": ".py",
   "mimetype": "text/x-python",
   "name": "python",
   "nbconvert_exporter": "python",
   "pygments_lexer": "ipython3",
   "version": "3.7.3"
  }
 },
 "nbformat": 4,
 "nbformat_minor": 2
}
